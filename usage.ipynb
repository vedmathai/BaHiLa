{
 "cells": [
  {
   "cell_type": "markdown",
   "metadata": {},
   "source": [
    "# change the API_KEY to the key for guardian  \n",
    "# change the OPENAIKEY to the key for openai"
   ]
  },
  {
   "cell_type": "code",
   "execution_count": null,
   "metadata": {},
   "outputs": [],
   "source": [
    "from capture import get_content\n",
    "from capture import fetch_article_content\n",
    "from capture import event_type_classification\n",
    "from capture import get_title_and_content\n",
    "from capture import filter_news\n",
    "from capture import get_casualty_dict\n",
    "# Replace 'YOUR_API_KEY' with your actual API key from The Guardian\n",
    "API_KEY = ''\n",
    "\n",
    "import os\n",
    "os.environ[\"OPENAI_API_KEY\"] =\"\"\n",
    "\n",
    "from langchain.chat_models import ChatOpenAI\n",
    "from langchain.chains import create_extraction_chain\n",
    "\n",
    "import openai\n",
    "openai.api_key = os.environ[\"OPENAI_API_KEY\"]\n",
    "\n",
    "from tqdm import tqdm\n",
    "from json import JSONDecodeError\n"
   ]
  },
  {
   "cell_type": "markdown",
   "metadata": {},
   "source": [
    "# filter_news, param:\n",
    "\n",
    "# startdate, enddate, location, apikey"
   ]
  },
  {
   "cell_type": "code",
   "execution_count": null,
   "metadata": {},
   "outputs": [],
   "source": [
    "result = filter_news(\"2023-1-20\",\"2023-9-27\", \"Gaza\", API_KEY)\n",
    "# result"
   ]
  },
  {
   "cell_type": "code",
   "execution_count": null,
   "metadata": {},
   "outputs": [],
   "source": [
    "casualty_dict_list = []\n",
    "\n",
    "for date in tqdm(result):\n",
    "\n",
    "    for article in result[date]:\n",
    "        main_content = article['main_content']\n",
    "\n",
    "        try:\n",
    "            casualty_dict = get_casualty_dict(main_content)\n",
    "            \n",
    "            # only append the casualty_dict if it is not None and the number of victims is greater than 0\n",
    "            if casualty_dict is not None and casualty_dict['event_number_of_victims'] > 0:\n",
    "                # add the date and the url to the casualty_dict\n",
    "                casualty_dict['date'] = date\n",
    "                casualty_dict['url'] = article['url']\n",
    "                casualty_dict['title'] = article['title']\n",
    "                \n",
    "                casualty_dict_list.append(casualty_dict)\n",
    "\n",
    "            print(casualty_dict)\n",
    "        \n",
    "        except JSONDecodeError:\n",
    "            print(f\"Error decoding JSON for article URL: {article['url']}\")\n",
    "        except Exception as e:  # This is a general exception to catch any other unexpected errors.\n",
    "            print(f\"An error occurred for article URL: {article['url']}. Error message: {str(e)}\")\n"
   ]
  },
  {
   "cell_type": "code",
   "execution_count": null,
   "metadata": {},
   "outputs": [],
   "source": [
    "print(casualty_dict_list)"
   ]
  },
  {
   "cell_type": "markdown",
   "metadata": {},
   "source": [
    "# save into the json file"
   ]
  },
  {
   "cell_type": "code",
   "execution_count": null,
   "metadata": {},
   "outputs": [],
   "source": [
    "# save the casualty_dict_list to a json file, in a readable format\n",
    "import json\n",
    "with open('casualty_dict_list.json', 'w') as outfile:\n",
    "    json.dump(casualty_dict_list, outfile, indent=4)"
   ]
  }
 ],
 "metadata": {
  "language_info": {
   "name": "python"
  },
  "orig_nbformat": 4
 },
 "nbformat": 4,
 "nbformat_minor": 2
}
